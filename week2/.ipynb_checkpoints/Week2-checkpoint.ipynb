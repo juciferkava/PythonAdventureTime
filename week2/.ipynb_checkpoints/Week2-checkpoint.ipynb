{
 "cells": [
  {
   "cell_type": "code",
   "execution_count": 1,
   "metadata": {},
   "outputs": [],
   "source": [
    "from CharacterClass import *\n",
    "\n",
    "import pandas as pd\n",
    "from bs4 import BeautifulSoup\n",
    "import random as rand\n",
    "import numpy as np"
   ]
  },
  {
   "cell_type": "markdown",
   "metadata": {},
   "source": [
    "So dictionaries are great. Kind of. When your hard coding a dictionary you can make more mistakes, what happens when you mistype a \"HP\" as \"hp\", or \"hp_\"? hint you'll crash your program! \n"
   ]
  },
  {
   "cell_type": "code",
   "execution_count": 12,
   "metadata": {},
   "outputs": [
    {
     "ename": "KeyError",
     "evalue": "'HP'",
     "output_type": "error",
     "traceback": [
      "\u001b[1;31m---------------------------------------------------------------------------\u001b[0m",
      "\u001b[1;31mKeyError\u001b[0m                                  Traceback (most recent call last)",
      "\u001b[1;32m<ipython-input-12-bd78bb8a5134>\u001b[0m in \u001b[0;36m<module>\u001b[1;34m\u001b[0m\n\u001b[0;32m      1\u001b[0m \u001b[0mlaern\u001b[0m \u001b[1;33m=\u001b[0m \u001b[1;33m{\u001b[0m\u001b[1;34m'hp'\u001b[0m\u001b[1;33m:\u001b[0m\u001b[1;36m0\u001b[0m\u001b[1;33m}\u001b[0m\u001b[1;33m\u001b[0m\u001b[1;33m\u001b[0m\u001b[0m\n\u001b[1;32m----> 2\u001b[1;33m \u001b[0mlaern\u001b[0m\u001b[1;33m[\u001b[0m\u001b[1;34m'HP'\u001b[0m\u001b[1;33m]\u001b[0m\u001b[1;33m\u001b[0m\u001b[1;33m\u001b[0m\u001b[0m\n\u001b[0m",
      "\u001b[1;31mKeyError\u001b[0m: 'HP'"
     ]
    }
   ],
   "source": [
    "laern = {'hp':0}\n",
    "laern['HP']"
   ]
  },
  {
   "cell_type": "markdown",
   "metadata": {},
   "source": [
    "But theres another way. Python supports Object Oriented Programing (OOB). We won't go to into detail this week.\n",
    "But it allows you to create a Class. Classes can inherit other classes and allows you to create nested variables and assign functions to the class. I've already made one for us with a couple functions. We can look at it in the characterclass.py file. "
   ]
  },
  {
   "cell_type": "markdown",
   "metadata": {},
   "source": [
    "Its pretty complex, so we are going to simplify it for now. \n",
    "character is a class that houses variables and functions and does a lot of the work behind the scenes so its always the same. It has a bunch of variables so far which you can reference below. We'll use laern as an example. \n",
    "- **laern.name** String Variable\n",
    "- **laern.class_name** String Variable, Currently not very useful but we will be adding to this power in the future\n",
    "- **laern.level** Int Variable, number of levels for a current character\n",
    "- **laern.race**  String Variable, Like class name will facilitate some cool things in the future\n",
    "- **laern.hitDice** Int Variable, explaining what we need to roll\n",
    "- **laern.age**     Int Variable,\n",
    "- **laern.proficiency** Int Variable,\n",
    "- **laern.abilityScores** This is a seperate class that houses the following variables. The class also has two functions to calculate a 4d6 drop lowest ability, and calculate modifiers.\n",
    "    - **laern.abilityScores.str** \n",
    "    - **laern.abilityScores.dex**\n",
    "    - **laern.abilityScores.con**\n",
    "    - **laern.abilityScores.wis**\n",
    "    - **laern.abilityScores.int**\n",
    "    - **laern.abilityScores.cha**\n",
    "        - *Note each of these variables has two sub variables. When we have a subvariable they are differentiated by a period in between.*\n",
    "        - Example:\n",
    "        - laern.abilityScores.cha.score\n",
    "        - laern.abilityScores.cha.modifier\n",
    "- **laern.hp** Int Variable,\n",
    "- **laern.current_hp** Int Variable,\n",
    "- **laern.AC**  Int Variable, \n",
    "- **laern.Has_Healing_potion** Boolean variable, True or False"
   ]
  },
  {
   "cell_type": "markdown",
   "metadata": {},
   "source": [
    "So now we can remake laern. It takes 7 lines of code. Much more readable. "
   ]
  },
  {
   "cell_type": "code",
   "execution_count": 43,
   "metadata": {},
   "outputs": [],
   "source": [
    "laern = character(name = \"Leeroy Jenkins\",\n",
    "        race = \"elf\",\n",
    "        level = 1,\n",
    "        age = 19,\n",
    "        class_name = \"Fighter\",\n",
    "        hitdice = 10, proficiency=2)\n",
    "laern.AC = 10 + laern.abilityModifiers.dex +2"
   ]
  },
  {
   "cell_type": "markdown",
   "metadata": {},
   "source": [
    "#### Lets make a new character.\n",
    "Because its easy we can make another character quickly and easily"
   ]
  },
  {
   "cell_type": "code",
   "execution_count": 44,
   "metadata": {},
   "outputs": [],
   "source": [
    "acacia= (character(name = \"acacia\",\n",
    "        race = \"puppy\",\n",
    "        level = 5,\n",
    "        age = 14,\n",
    "        class_name = \"ranger\",\n",
    "        hitdice = 8, proficiency=3))\n",
    "acacia.AC = 10 + acacia.abilityModifiers.dex +2"
   ]
  },
  {
   "cell_type": "markdown",
   "metadata": {},
   "source": [
    "#### Logic\n",
    "So far you've worked with static variables and calculations. This is great but you can't do anything fun with math. \n",
    "Logic is the next step. **\"if\"** statements are the most obivious way of using logic. They require you to test a boolean or a logical statement and if that returns true do soemthing. "
   ]
  },
  {
   "cell_type": "markdown",
   "metadata": {},
   "source": [
    "We'll start with a boolean **True** or **False**. \n",
    "We happen to have one set up alread. Both Laern and Acacia have a flag used to test whether they have a healing potion. Lets see how we can use it."
   ]
  },
  {
   "cell_type": "code",
   "execution_count": 45,
   "metadata": {},
   "outputs": [
    {
     "name": "stdout",
     "output_type": "stream",
     "text": [
      "Laern drinks the potion\n",
      "True\n"
     ]
    }
   ],
   "source": [
    "if laern.Has_Healing_potion:\n",
    "    print(\"Laern drinks the potion\")\n",
    "else: print(\"Laern reaches for a potion before realizing she's out of them... oh nooo!!!!\")\n",
    "print(laern.Has_Healing_potion)"
   ]
  },
  {
   "cell_type": "markdown",
   "metadata": {},
   "source": [
    "if statements have 3+ properties. \n",
    "\n",
    "1. call **if**\n",
    "    -this lets the compiler know logic is being used.\n",
    "2. Declare what is being tested\n",
    "    - this should result in a true or false. \n",
    "    - it could already be a boolean. or a logic function\n",
    "    - common examples of testing logic could be\n",
    "        - **>** greater than\n",
    "        - **>=** greater than or equal to\n",
    "        - **< ** less than\n",
    "        - **<=** less than or equal to\n",
    "        - **==** is equal to\n",
    "            - note it has to be 2 equal signs as we know one equal sign says this variable equals. \n",
    "        - **!** *Not* it can be infront of a boolean or infront of an equal sign \n",
    "            - example True != !True == False\n",
    "3. Code that should be performed if True\n",
    "4. **else:** lines of code to perform if the statement is False\n",
    "5. **elif:** elifs are else if statements they come after the first test and allow for more than two outcomes.\n",
    "We can also test a logic based on an function calculation. As we see below, acacia is going to make a melee attack. We then test whether it is greater or equal to the ac. \n",
    "If **True** laern takes damage. "
   ]
  },
  {
   "cell_type": "code",
   "execution_count": 46,
   "metadata": {},
   "outputs": [
    {
     "name": "stdout",
     "output_type": "stream",
     "text": [
      "16 1\n",
      "24\n"
     ]
    }
   ],
   "source": [
    "attack, damage= acacia.melee_attack(acacia.abilityModifiers.str, 8)\n",
    "print(attack, damage)\n",
    "if attack >= laern.AC:\n",
    "    laern.current_hp -= damage\n",
    "print(laern.current_hp)"
   ]
  },
  {
   "cell_type": "code",
   "execution_count": 47,
   "metadata": {},
   "outputs": [
    {
     "data": {
      "text/plain": [
       "13"
      ]
     },
     "execution_count": 47,
     "metadata": {},
     "output_type": "execute_result"
    }
   ],
   "source": [
    "laern.AC"
   ]
  },
  {
   "cell_type": "markdown",
   "metadata": {},
   "source": [
    "Lets have them fight to the death. We can use a while loop to perform tasks while something is true. \n",
    "- syntax:\n",
    "    - while logic:\n",
    "        -actions to perform\n",
    "        -break : we use this to get out of the while loop early. \n",
    "        \n",
    "*note* in logic a **|** lets you use two logic operators tied with \"or \" while **&** lets you use two logic operators tied with an \"and\". "
   ]
  },
  {
   "cell_type": "code",
   "execution_count": 48,
   "metadata": {},
   "outputs": [],
   "source": [
    "\n",
    "while laern.current_hp >=0 | acacia.current_hp >=0:\n",
    "\n",
    "    ac_attack, ac_damage= acacia.melee_attack(acacia.abilityModifiers.str, 8)\n",
    "    print(ac_attack)\n",
    "    if ac_attack >= laern.AC:\n",
    "        laern.current_hp -= ac_damage\n",
    "        if (laern.current_hp <0) :\n",
    "            print(\"Acacia wins\")\n",
    "            break\n",
    "        print(acacia.current_hp, laern.current_hp)\n",
    "    la_attack, la_damage= laern.melee_attack(laern.abilityModifiers.str, 12)\n",
    "    print(la_attack)\n",
    "    if la_attack > acacia.AC:\n",
    "        acacia.current_hp -= la_damage\n",
    "        if (acacia.current_hp <0):\n",
    "            print(\"Laern wins\")\n",
    "            break\n",
    "        print(acacia.current_hp, laern.current_hp)\n"
   ]
  },
  {
   "cell_type": "markdown",
   "metadata": {},
   "source": [
    "But what if they want to heal? We can use a function.\n",
    "\n",
    "- syntax for a function the def is required followed by function name. \n",
    "- Any variables we want to call are located in the required parenthese.\n",
    "- Finally a colon is required to start the function "
   ]
  },
  {
   "cell_type": "code",
   "execution_count": 40,
   "metadata": {},
   "outputs": [
    {
     "name": "stdout",
     "output_type": "stream",
     "text": [
      "30\n",
      "30\n"
     ]
    }
   ],
   "source": [
    "def healing_potion(character): \n",
    "    potion = rand.randint(2, 8)+2\n",
    "    if potion> character.hp - character.current_hp:\n",
    "        character.current_hp = character.hp\n",
    "    else: character.current_hp += potion\n",
    "    return character\n",
    "print(laern.current_hp)\n",
    "laern = healing_potion(laern)\n",
    "print(laern.current_hp)"
   ]
  },
  {
   "cell_type": "markdown",
   "metadata": {},
   "source": [
    "Now add the choice for laern and  acacia to use a potion.\n",
    "\n",
    "Oh it looks like before we can do that we need to set up a reset function. Lets go ahead and write that function. set up a function to reset current hp. "
   ]
  },
  {
   "cell_type": "code",
   "execution_count": 41,
   "metadata": {},
   "outputs": [],
   "source": [
    "def reset_hp(character):\n",
    "    \"\"\" Use the HP total to reset current_hp\"\"\"\n",
    "    \n",
    "    return hp\n",
    "laern.current_hp = reset_hp(laern)\n",
    "acacia.current_hp = reset_hp(acacia)"
   ]
  },
  {
   "cell_type": "markdown",
   "metadata": {},
   "source": [
    "So now we have some logic, our next issue is we don't want to type out the same code 100 times. We can use **for** loops to fix this.\n",
    "syntax:\n",
    "- for variable in list:\n",
    "    - tasks to perform\n",
    "\n",
    "With this type of code we can run a series of rounds up to a certain point. \n",
    "We can run rounds of attacks lets see how 3 rounds work. "
   ]
  },
  {
   "cell_type": "code",
   "execution_count": 49,
   "metadata": {},
   "outputs": [
    {
     "name": "stdout",
     "output_type": "stream",
     "text": [
      "20\n",
      "56 19\n",
      "15\n",
      "53 19\n",
      "17\n",
      "53 13\n",
      "18\n",
      "40 13\n",
      "23\n",
      "40 11\n",
      "9\n",
      "the volcano exploded.\n"
     ]
    }
   ],
   "source": [
    "for i in range(0,3):\n",
    "    \n",
    "    ac_attack, ac_damage= acacia.melee_attack(acacia.abilityModifiers.str, 8)\n",
    "    print(ac_attack)\n",
    "    if ac_attack >= laern.AC:\n",
    "        laern.current_hp -= ac_damage\n",
    "        if (laern.current_hp <0) :\n",
    "            print(\"Acacia wins\")\n",
    "            break\n",
    "        print(acacia.current_hp, laern.current_hp)\n",
    "    la_attack, la_damage= laern.melee_attack(laern.abilityModifiers.str, 12)\n",
    "    print(la_attack)\n",
    "    if la_attack > acacia.AC:\n",
    "        acacia.current_hp -= la_damage\n",
    "        if (acacia.current_hp <0):\n",
    "            print(\"Laern wins\")\n",
    "            break\n",
    "        print(acacia.current_hp, laern.current_hp)\n",
    "print(\"the volcano exploded.\")"
   ]
  },
  {
   "cell_type": "markdown",
   "metadata": {},
   "source": [
    "But who should go first? Lets get each character to roll initiative and then get to attack in order. "
   ]
  }
 ],
 "metadata": {
  "kernelspec": {
   "display_name": "Python 3",
   "language": "python",
   "name": "python3"
  },
  "language_info": {
   "codemirror_mode": {
    "name": "ipython",
    "version": 3
   },
   "file_extension": ".py",
   "mimetype": "text/x-python",
   "name": "python",
   "nbconvert_exporter": "python",
   "pygments_lexer": "ipython3",
   "version": "3.7.4"
  }
 },
 "nbformat": 4,
 "nbformat_minor": 4
}
