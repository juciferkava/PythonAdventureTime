{
 "cells": [
  {
   "cell_type": "code",
   "execution_count": 3,
   "metadata": {},
   "outputs": [],
   "source": [
    "from CharacterClass import *\n",
    "\n",
    "import pandas as pd\n",
    "from bs4 import BeautifulSoup\n",
    "import random as rand\n",
    "import numpy as np\n",
    "import urllib3\n",
    "import json"
   ]
  },
  {
   "cell_type": "code",
   "execution_count": 4,
   "metadata": {},
   "outputs": [],
   "source": [
    "class Monster:\n",
    "    def __init__(self,monster, **entries):\n",
    "        \n",
    "        url = f\"https://www.dnd5eapi.co/api/monsters/{monster}\"\n",
    "        http = urllib3.PoolManager()\n",
    "        response = http.request('GET', url)\n",
    "        soup = BeautifulSoup(response)\n",
    "        monster_data = json.loads(response.data.decode('utf-8'))\n",
    "        self.__dict__.update(monster_data)\n",
    "        \n",
    "        self.actions ={}\n",
    "        for action in monster_data[\"actions\"]:\n",
    "            self.actions[action['name']]= Actions(action)\n",
    "class Actions:\n",
    "    def __init__(self,action): \n",
    "          \n",
    "            self.__dict__.update(action)\n",
    "              \n",
    "            if 'damage' in action.keys():\n",
    "                self.damage = Damage(action['damage'])\n",
    "    def make_attack(self):\n",
    "        \"\"\"\"\"\"\n",
    "        if self.attack_bonus is not None:\n",
    "            return rand.randint(1,20) +self.attack_bonus\n",
    "    \n",
    "\n",
    "class Damage:\n",
    "    def __init__(self, damage):\n",
    "        \n",
    "        self.__dict__.update(damage[0])\n",
    "        self.min_damage = int(self.damage_dice.split(\"d\")[0])\n",
    "        self.max_damage = int(self.damage_dice.split(\"d\")[1]) * self.min_damage\n",
    "        if self.damage_bonus is None:\n",
    "            self.damage_bonus=0\n",
    "        else: self.damage_bonus== int( self.damage_bonus)\n",
    "    def roll_damage(self):\n",
    "\n",
    "        \"\"\"\"\"\"\n",
    "        return rand.randint(self.min_damage, self.max_damage)+ self.damage_bonus"
   ]
  },
  {
   "cell_type": "code",
   "execution_count": 5,
   "metadata": {},
   "outputs": [],
   "source": [
    "aboleth = Monster(\"zombie\")"
   ]
  },
  {
   "cell_type": "code",
   "execution_count": 6,
   "metadata": {},
   "outputs": [
    {
     "data": {
      "text/plain": [
       "16"
      ]
     },
     "execution_count": 6,
     "metadata": {},
     "output_type": "execute_result"
    }
   ],
   "source": [
    "aboleth.actions['Slam'].make_attack()"
   ]
  },
  {
   "cell_type": "markdown",
   "metadata": {},
   "source": [
    "#### Lets make a new character."
   ]
  },
  {
   "cell_type": "code",
   "execution_count": 7,
   "metadata": {},
   "outputs": [],
   "source": [
    "acacia= (character(name = \"acacia\",\n",
    "        race = \"puppy\",\n",
    "        level = 5,\n",
    "        age = 14,\n",
    "        class_name = \"ranger\",\n",
    "        hitdice = 8, proficiency=3))\n",
    "acacia.AC = 10 + acacia.abilityModifiers.dex +2"
   ]
  },
  {
   "cell_type": "markdown",
   "metadata": {},
   "source": [
    "Now We can look at logic. "
   ]
  },
  {
   "cell_type": "code",
   "execution_count": 10,
   "metadata": {},
   "outputs": [
    {
     "name": "stdout",
     "output_type": "stream",
     "text": [
      "5 1\n",
      "29\n"
     ]
    }
   ],
   "source": [
    "attack, damage= acacia.melee_attack(acacia.abilityModifiers.str, 8)\n",
    "print(attack, damage)\n",
    "if attack > laern.AC:\n",
    "    laern.current_hp -= damage\n",
    "print(laern.current_hp)"
   ]
  },
  {
   "cell_type": "code",
   "execution_count": 14,
   "metadata": {},
   "outputs": [
    {
     "data": {
      "text/plain": [
       "12"
      ]
     },
     "execution_count": 14,
     "metadata": {},
     "output_type": "execute_result"
    }
   ],
   "source": [
    "laern.AC"
   ]
  },
  {
   "cell_type": "markdown",
   "metadata": {},
   "source": [
    "And For Loops. "
   ]
  },
  {
   "cell_type": "code",
   "execution_count": 18,
   "metadata": {},
   "outputs": [
    {
     "name": "stdout",
     "output_type": "stream",
     "text": [
      "5\n",
      "23\n",
      "Laern wins\n"
     ]
    }
   ],
   "source": [
    "\n",
    "while True:\n",
    "    ac_attack, ac_damage= acacia.melee_attack(acacia.abilityModifiers.str, 8)\n",
    "    print(ac_attack)\n",
    "    if ac_attack >= laern.AC:\n",
    "        laern.current_hp -= ac_damage\n",
    "        if (laern.current_hp <0) :\n",
    "            print(\"Acacia wins\")\n",
    "            break\n",
    "        print(acacia.current_hp, laern.current_hp)\n",
    "    la_attack, la_damage= laern.melee_attack(laern.abilityModifiers.str, 12)\n",
    "    print(la_attack)\n",
    "    if la_attack > acacia.AC:\n",
    "        acacia.current_hp -= la_damage\n",
    "        if (acacia.current_hp <0):\n",
    "            print(\"Laern wins\")\n",
    "            break\n",
    "        print(acacia.current_hp, laern.current_hp)\n"
   ]
  },
  {
   "cell_type": "markdown",
   "metadata": {},
   "source": [
    "But what if they want to heal? We can use a function. "
   ]
  },
  {
   "cell_type": "code",
   "execution_count": 19,
   "metadata": {},
   "outputs": [],
   "source": [
    "def healing_potion(character): ### syntax for a function the def is required followed by function name. \n",
    "                                #Any variables we want to call are located in the required parenthese.\n",
    "                                #Finally a colon is required to start the function \n",
    "    potion = rand.randint(2, 8)+2\n",
    "    if potion> character.hp - character.current_hp:\n",
    "        character.current_hp = character.hp\n",
    "    else: character.current_hp += potion\n",
    "    return character\n",
    "print(laern.current_hp)\n",
    "laern = healing_potion(laern)\n",
    "print(laern.current_hp)"
   ]
  },
  {
   "cell_type": "markdown",
   "metadata": {},
   "source": [
    "Now add the choice for laern and  acacia to use a potion.\n",
    "\n",
    "Oh it looks like before we can do that we need to set up a reset function. Lets go ahead and write that function. set up a function to reset current hp. "
   ]
  },
  {
   "cell_type": "code",
   "execution_count": 28,
   "metadata": {},
   "outputs": [],
   "source": [
    "def reset_hp(character):\n",
    "    \"\"\" Use the HP total to reset current_hp\"\"\"\n",
    "    \n",
    "    return character\n",
    "laern = reset_hp(laern)\n",
    "acacia = reset_hp(acacia)"
   ]
  },
  {
   "cell_type": "code",
   "execution_count": 18,
   "metadata": {},
   "outputs": [
    {
     "name": "stdout",
     "output_type": "stream",
     "text": [
      "5\n",
      "23\n",
      "Laern wins\n"
     ]
    }
   ],
   "source": [
    "\n",
    "while True:\n",
    "    \n",
    "    ac_attack, ac_damage= acacia.melee_attack(acacia.abilityModifiers.str, 8)\n",
    "    print(ac_attack)\n",
    "    if ac_attack >= laern.AC:\n",
    "        laern.current_hp -= ac_damage\n",
    "        if (laern.current_hp <0) :\n",
    "            print(\"Acacia wins\")\n",
    "            break\n",
    "        print(acacia.current_hp, laern.current_hp)\n",
    "    la_attack, la_damage= laern.melee_attack(laern.abilityModifiers.str, 12)\n",
    "    print(la_attack)\n",
    "    if la_attack > acacia.AC:\n",
    "        acacia.current_hp -= la_damage\n",
    "        if (acacia.current_hp <0):\n",
    "            print(\"Laern wins\")\n",
    "            break\n",
    "        print(acacia.current_hp, laern.current_hp)\n"
   ]
  },
  {
   "cell_type": "markdown",
   "metadata": {},
   "source": [
    "But who should go first? Lets get each character to roll initiative and then get to attack in order. "
   ]
  },
  {
   "cell_type": "code",
   "execution_count": null,
   "metadata": {},
   "outputs": [],
   "source": [
    "https://docs.google.com/spreadsheets/d/10RSgNxPXvJ0nnpvIMERC4LRf2-deA0Ofb_nDyQAXql4/edit#gid=0"
   ]
  }
 ],
 "metadata": {
  "kernelspec": {
   "display_name": "Python 3",
   "language": "python",
   "name": "python3"
  },
  "language_info": {
   "codemirror_mode": {
    "name": "ipython",
    "version": 3
   },
   "file_extension": ".py",
   "mimetype": "text/x-python",
   "name": "python",
   "nbconvert_exporter": "python",
   "pygments_lexer": "ipython3",
   "version": "3.7.4"
  }
 },
 "nbformat": 4,
 "nbformat_minor": 4
}
