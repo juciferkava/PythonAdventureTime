{
 "cells": [
  {
   "cell_type": "code",
   "execution_count": 1,
   "metadata": {
    "pycharm": {
     "is_executing": false
    }
   },
   "outputs": [],
   "source": [
    "import pandas as pd\n",
    "import bs4\n",
    "import random as rand\n",
    "import numpy as np"
   ]
  },
  {
   "cell_type": "markdown",
   "metadata": {
    "pycharm": {
     "name": "#%%\n"
    }
   },
   "source": [
    "Variable and data structures are your primary way of holding information. \n",
    "Basic Variables are as follows:\n",
    "char : a single character a-z 0-9\n",
    "string: multipe characters put together. Surrounded by quotes. \n",
    "int: integer 0-9\n",
    "Float: numeric with short decimal\n",
    "Double Numeric with long decimal \n",
    "\n",
    "With python you don't have to declare a variable type and cna switch a different times. \n"
   ]
  },
  {
   "cell_type": "code",
   "execution_count": 2,
   "metadata": {},
   "outputs": [],
   "source": [
    "name = \"Leeroy Jenkins\"\n",
    "race = \"elf\"\n",
    "level = 1\n",
    "age = 19\n",
    "class_ = \"Fighter\"\n",
    "hp = 10"
   ]
  },
  {
   "cell_type": "code",
   "execution_count": 3,
   "metadata": {},
   "outputs": [
    {
     "name": "stdout",
     "output_type": "stream",
     "text": [
      "Leeroy Jenkins\n",
      "First name: Leeroy\n"
     ]
    }
   ],
   "source": [
    "print(f\"{name}\")\n",
    "print(f\"First name: {name.split(' ')[0]}\")"
   ]
  },
  {
   "cell_type": "code",
   "execution_count": 4,
   "metadata": {},
   "outputs": [
    {
     "name": "stdout",
     "output_type": "stream",
     "text": [
      "Leeroy is a 1st level Fighter, he is weak.\n",
      "If Leeroy could gain experience he could grow and be a 3rd\n",
      " level Fighter and be strong.\n"
     ]
    }
   ],
   "source": [
    "name = name.split(' ')[0]\n",
    "print(f\"{name} is a {level}st level {class_}, he is weak.\")\n",
    "print(f\"If {name} could gain experience he could grow and be a {level+2}rd\\n level {class_} and be strong.\")"
   ]
  },
  {
   "cell_type": "markdown",
   "metadata": {},
   "source": [
    "When variables are related Keeping track of individual variables can be  confusing. Lets make Leeroy a friend. "
   ]
  },
  {
   "cell_type": "code",
   "execution_count": 5,
   "metadata": {},
   "outputs": [],
   "source": [
    "Laern = {\n",
    "    \"name\": \"Laern The Tanslucent Turtle\",\n",
    "    \"class_\": \"Bard\",\n",
    "    \"level\": 3,\n",
    "    \"race\": \"Aasimar\",\n",
    "    \"hp\": 0,\n",
    "    \"age\": rand.randint (15,25),\n",
    "   \"proficiency\":3\n",
    "}"
   ]
  },
  {
   "cell_type": "code",
   "execution_count": 22,
   "metadata": {},
   "outputs": [
    {
     "name": "stdout",
     "output_type": "stream",
     "text": [
      "This is Laern The Tanslucent Turtle she's a 3rd\n",
      " level Bard.\n",
      "She's much stronger and it's easier to keep track of her stats.\n",
      "Or we can see them as a whole\n",
      "\n",
      " {'name': 'Laern The Tanslucent Turtle', 'class_': 'Bard', 'level': 3, 'race': 'Aasimar', 'hp': 20, 'age': 24, 'proficiency': 3, 'abilities': {'str': 12, 'dex': 13, 'con': 10, 'wis': 11, 'cha': 17, 'int': 11}, 'ability_modifier': {'str': 1, 'dex': 1, 'con': 0, 'wis': 0, 'cha': 3, 'int': 0}}\n"
     ]
    }
   ],
   "source": [
    "\n",
    "print(f\"This is {Laern['name']} she's a {Laern['level']}rd\\n level {Laern['class_']}.\\n\\\n",
    "She's much stronger and it's easier to keep track of her stats.\\n\\\n",
    "Or we can see them as a whole\\n\\n {Laern}\")"
   ]
  },
  {
   "cell_type": "markdown",
   "metadata": {},
   "source": [
    "Laern is much easier to deal with and understand. But we forgot to add intelligence. Lets do that now. This time we'll use a nested dictionary. "
   ]
  },
  {
   "cell_type": "code",
   "execution_count": 7,
   "metadata": {},
   "outputs": [],
   "source": [
    "Laern.update({\"abilities\":{\n",
    "     \"str\":0,\n",
    "    \"dex\":0,\n",
    "    \"con\":0,\n",
    "    \"wis\":1,\n",
    "    \"cha\":2,\n",
    "    }})"
   ]
  },
  {
   "cell_type": "code",
   "execution_count": 8,
   "metadata": {},
   "outputs": [],
   "source": [
    "Laern['abilities'].update({\"int\":0})"
   ]
  },
  {
   "cell_type": "markdown",
   "metadata": {},
   "source": [
    "Oh shoot, we forgot to add intelligence. Why don't you add that in the lines below:"
   ]
  },
  {
   "cell_type": "code",
   "execution_count": 9,
   "metadata": {},
   "outputs": [
    {
     "data": {
      "text/plain": [
       "{'str': 0, 'dex': 0, 'con': 0, 'wis': 1, 'cha': 2, 'int': 0}"
      ]
     },
     "execution_count": 9,
     "metadata": {},
     "output_type": "execute_result"
    }
   ],
   "source": [
    "Laern[\"abilities\"]"
   ]
  },
  {
   "cell_type": "markdown",
   "metadata": {},
   "source": [
    "As you can see abilities scores  haven't been calculated yet. A good rule of thumb is <em>if you would write the same lines of code three times make a function.</em>\n",
    "\n",
    "Beyond that we can use a library to roll the random aspects of it. We'll roll 4d6 and drop the lowest. "
   ]
  },
  {
   "cell_type": "code",
   "execution_count": 10,
   "metadata": {},
   "outputs": [],
   "source": [
    "def calculate_abilities():\n",
    "    \"\"\" Calulate ability score returns a value between 3 and 18. \n",
    "        We use a list to hold the data and append each dice. \n",
    "        We then drop the lowest and return the sum\n",
    "        \n",
    "    \"\"\"\n",
    "    d6_list = []\n",
    "    for dice in range(0,4):\n",
    "        d6_list.append(rand.randint(1,6))\n",
    "    print(d6_list)\n",
    "    \n",
    "    d6_list.pop(np.argmin(d6_list))\n",
    "    \n",
    "    return np.sum(d6_list)"
   ]
  },
  {
   "cell_type": "code",
   "execution_count": 11,
   "metadata": {},
   "outputs": [
    {
     "name": "stdout",
     "output_type": "stream",
     "text": [
      "[6, 4, 3, 3]\n"
     ]
    },
    {
     "data": {
      "text/plain": [
       "13"
      ]
     },
     "execution_count": 11,
     "metadata": {},
     "output_type": "execute_result"
    }
   ],
   "source": [
    "calculate_abilities()"
   ]
  },
  {
   "cell_type": "markdown",
   "metadata": {},
   "source": [
    "Now lets use our cool function to give Laern some abilities. Since the bonus abilities were already there we will use the += to add to the variable. "
   ]
  },
  {
   "cell_type": "code",
   "execution_count": 12,
   "metadata": {},
   "outputs": [
    {
     "name": "stdout",
     "output_type": "stream",
     "text": [
      "[5, 4, 1, 3]\n",
      "[3, 5, 5, 2]\n",
      "[3, 3, 4, 1]\n",
      "[2, 4, 4, 1]\n",
      "[6, 5, 2, 4]\n",
      "[5, 4, 1, 2]\n"
     ]
    }
   ],
   "source": [
    "for ability in Laern['abilities']:\n",
    "    Laern['abilities'][ability] += calculate_abilities()"
   ]
  },
  {
   "cell_type": "code",
   "execution_count": 13,
   "metadata": {},
   "outputs": [
    {
     "data": {
      "text/plain": [
       "{'name': 'Laern The Tanslucent Turtle',\n",
       " 'class_': 'Bard',\n",
       " 'level': 3,\n",
       " 'race': 'Aasimar',\n",
       " 'hp': 0,\n",
       " 'age': 24,\n",
       " 'proficiency': 3,\n",
       " 'abilities': {'str': 12,\n",
       "  'dex': 13,\n",
       "  'con': 10,\n",
       "  'wis': 11,\n",
       "  'cha': 17,\n",
       "  'int': 11}}"
      ]
     },
     "execution_count": 13,
     "metadata": {},
     "output_type": "execute_result"
    }
   ],
   "source": [
    "Laern"
   ]
  },
  {
   "cell_type": "markdown",
   "metadata": {},
   "source": [
    "A Bard has a d8 for hit dice. Why don't you calculate her level 3 hp. "
   ]
  },
  {
   "cell_type": "code",
   "execution_count": 14,
   "metadata": {},
   "outputs": [],
   "source": [
    "Laern[\"hp\"]=8+(1)\n",
    "for hit_dice in range(0,2):\n",
    "    Laern[\"hp\"]+=rand.randint(1,8)+1"
   ]
  },
  {
   "cell_type": "code",
   "execution_count": 15,
   "metadata": {},
   "outputs": [
    {
     "data": {
      "text/plain": [
       "{'name': 'Laern The Tanslucent Turtle',\n",
       " 'class_': 'Bard',\n",
       " 'level': 3,\n",
       " 'race': 'Aasimar',\n",
       " 'hp': 20,\n",
       " 'age': 24,\n",
       " 'proficiency': 3,\n",
       " 'abilities': {'str': 12,\n",
       "  'dex': 13,\n",
       "  'con': 10,\n",
       "  'wis': 11,\n",
       "  'cha': 17,\n",
       "  'int': 11}}"
      ]
     },
     "execution_count": 15,
     "metadata": {},
     "output_type": "execute_result"
    }
   ],
   "source": [
    "Laern"
   ]
  },
  {
   "cell_type": "code",
   "execution_count": 16,
   "metadata": {},
   "outputs": [
    {
     "data": {
      "text/plain": [
       "{'str': 12, 'dex': 13, 'con': 10, 'wis': 11, 'cha': 17, 'int': 11}"
      ]
     },
     "execution_count": 16,
     "metadata": {},
     "output_type": "execute_result"
    }
   ],
   "source": [
    "Laern [\"abilities\"]\n"
   ]
  },
  {
   "cell_type": "code",
   "execution_count": 17,
   "metadata": {},
   "outputs": [
    {
     "name": "stdout",
     "output_type": "stream",
     "text": [
      "str\n",
      "1\n",
      "dex\n",
      "1\n",
      "con\n",
      "0\n",
      "wis\n",
      "0\n",
      "cha\n",
      "3\n",
      "int\n",
      "0\n"
     ]
    }
   ],
   "source": [
    "for ability in Laern[\"abilities\"]:\n",
    "    print(ability)\n",
    "    print ((Laern[\"abilities\"][ability]-10)//2)"
   ]
  },
  {
   "cell_type": "code",
   "execution_count": 19,
   "metadata": {},
   "outputs": [],
   "source": [
    "Laern.update({\"ability_modifier\":{\n",
    "     \"str\":((Laern[\"abilities\"][\"str\"]-10)//2),\n",
    "    \"dex\":((Laern[\"abilities\"][\"dex\"]-10)//2),\n",
    "    \"con\":((Laern[\"abilities\"][\"con\"]-10)//2),\n",
    "    \"wis\":((Laern[\"abilities\"][\"wis\"]-10)//2),\n",
    "    \"cha\":((Laern[\"abilities\"][\"cha\"]-10)//2),\n",
    "    \"int\":((Laern[\"abilities\"][\"int\"]-10)//2),\n",
    "    }})"
   ]
  },
  {
   "cell_type": "code",
   "execution_count": 20,
   "metadata": {},
   "outputs": [
    {
     "data": {
      "text/plain": [
       "{'name': 'Laern The Tanslucent Turtle',\n",
       " 'class_': 'Bard',\n",
       " 'level': 3,\n",
       " 'race': 'Aasimar',\n",
       " 'hp': 20,\n",
       " 'age': 24,\n",
       " 'proficiency': 3,\n",
       " 'abilities': {'str': 12,\n",
       "  'dex': 13,\n",
       "  'con': 10,\n",
       "  'wis': 11,\n",
       "  'cha': 17,\n",
       "  'int': 11},\n",
       " 'ability_modifier': {'str': 1,\n",
       "  'dex': 1,\n",
       "  'con': 0,\n",
       "  'wis': 0,\n",
       "  'cha': 3,\n",
       "  'int': 0}}"
      ]
     },
     "execution_count": 20,
     "metadata": {},
     "output_type": "execute_result"
    }
   ],
   "source": [
    "Laern"
   ]
  },
  {
   "cell_type": "code",
   "execution_count": null,
   "metadata": {},
   "outputs": [],
   "source": [
    "Jucifer"
   ]
  }
 ],
 "metadata": {
  "kernelspec": {
   "display_name": "Python 3",
   "language": "python",
   "name": "python3"
  },
  "language_info": {
   "codemirror_mode": {
    "name": "ipython",
    "version": 3
   },
   "file_extension": ".py",
   "mimetype": "text/x-python",
   "name": "python",
   "nbconvert_exporter": "python",
   "pygments_lexer": "ipython3",
   "version": "3.7.6"
  },
  "pycharm": {
   "stem_cell": {
    "cell_type": "raw",
    "metadata": {
     "collapsed": false
    },
    "source": []
   }
  }
 },
 "nbformat": 4,
 "nbformat_minor": 4
}
